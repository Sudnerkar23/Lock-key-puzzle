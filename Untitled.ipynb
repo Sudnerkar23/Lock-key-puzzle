{
 "cells": [
  {
   "cell_type": "code",
   "execution_count": 147,
   "id": "340f54cd",
   "metadata": {},
   "outputs": [],
   "source": [
    "#auth: Sudhanshu Nerkar\n",
    "from random import randint, randrange\n"
   ]
  },
  {
   "cell_type": "code",
   "execution_count": 154,
   "id": "f6f3a93c",
   "metadata": {},
   "outputs": [],
   "source": [
    "key = random.randint(100,999)"
   ]
  },
  {
   "cell_type": "code",
   "execution_count": 155,
   "id": "62a9ae56",
   "metadata": {},
   "outputs": [
    {
     "data": {
      "text/plain": [
       "376"
      ]
     },
     "execution_count": 155,
     "metadata": {},
     "output_type": "execute_result"
    }
   ],
   "source": [
    "key"
   ]
  },
  {
   "cell_type": "code",
   "execution_count": 156,
   "id": "ed8f242d",
   "metadata": {},
   "outputs": [],
   "source": [
    "digit1 = int(key/100)\n",
    "digit2 = int(key/10) - (digit1*10)\n",
    "digit3 = key - (digit1*100 + digit2*10)"
   ]
  },
  {
   "cell_type": "code",
   "execution_count": 157,
   "id": "099cd379",
   "metadata": {},
   "outputs": [
    {
     "name": "stdout",
     "output_type": "stream",
     "text": [
      "3\n",
      "7\n",
      "6\n"
     ]
    }
   ],
   "source": [
    "print(digit1)\n",
    "print(digit2)\n",
    "print(digit3)\n",
    "\n"
   ]
  },
  {
   "cell_type": "code",
   "execution_count": 158,
   "id": "05586bee",
   "metadata": {},
   "outputs": [],
   "source": [
    "test_list = [0, 1, 2, 3, 4, 5,6,7,8,9]"
   ]
  },
  {
   "cell_type": "code",
   "execution_count": 159,
   "id": "db240806",
   "metadata": {},
   "outputs": [
    {
     "data": {
      "text/plain": [
       "916"
      ]
     },
     "execution_count": 159,
     "metadata": {},
     "output_type": "execute_result"
    }
   ],
   "source": [
    "h1 = random.choice([ele for ele in test_list if ele != digit1 and ele!=digit2 and ele!=digit3 and ele!=0])*100 + random.choice([ele for ele in test_list if ele != digit1 and ele!=digit2 and ele!=digit3])*10 + digit3\n",
    "h1"
   ]
  },
  {
   "cell_type": "code",
   "execution_count": 160,
   "id": "ac4ce1f0",
   "metadata": {},
   "outputs": [
    {
     "data": {
      "text/plain": [
       "807"
      ]
     },
     "execution_count": 160,
     "metadata": {},
     "output_type": "execute_result"
    }
   ],
   "source": [
    "h2 = random.choice([ele for ele in test_list if ele != digit1 and ele!=digit2 and ele!=digit3 and ele!=0])*100 + random.choice([ele for ele in test_list if ele != digit1 and ele!=digit2 and ele!=digit3])*10 + digit2\n",
    "h2"
   ]
  },
  {
   "cell_type": "code",
   "execution_count": 163,
   "id": "c2cced51",
   "metadata": {
    "scrolled": true
   },
   "outputs": [
    {
     "data": {
      "text/plain": [
       "638"
      ]
     },
     "execution_count": 163,
     "metadata": {},
     "output_type": "execute_result"
    }
   ],
   "source": [
    "h3 = digit3*100 + digit1*10 + random.choice([ele for ele in test_list if ele != digit1 and ele!=digit2 and ele!=digit3])\n",
    "h3"
   ]
  },
  {
   "cell_type": "code",
   "execution_count": 164,
   "id": "a19a117e",
   "metadata": {},
   "outputs": [
    {
     "data": {
      "text/plain": [
       "180"
      ]
     },
     "execution_count": 164,
     "metadata": {},
     "output_type": "execute_result"
    }
   ],
   "source": [
    "h4 = random.choice([ele for ele in test_list if ele != digit1 and ele!=digit2 and ele!=digit3 and ele!=0])*100 + random.choice([ele for ele in test_list if ele != digit1 and ele!=digit2 and ele!=digit3])*10 + random.choice([ele for ele in test_list if ele != digit1 and ele!=digit2 and ele!=digit3]) \n",
    "h4"
   ]
  },
  {
   "cell_type": "code",
   "execution_count": 165,
   "id": "a916e90a",
   "metadata": {},
   "outputs": [
    {
     "data": {
      "text/plain": [
       "983"
      ]
     },
     "execution_count": 165,
     "metadata": {},
     "output_type": "execute_result"
    }
   ],
   "source": [
    "h5 = random.choice([ele for ele in test_list if ele != digit1 and ele!=digit2 and ele!=digit3 and ele!=0])*100 + random.choice([ele for ele in test_list if ele != digit1 and ele!=digit2 and ele!=digit3])*10 + digit1\n",
    "h5"
   ]
  },
  {
   "cell_type": "code",
   "execution_count": null,
   "id": "0d2e154b",
   "metadata": {},
   "outputs": [],
   "source": []
  }
 ],
 "metadata": {
  "kernelspec": {
   "display_name": "Python 3 (ipykernel)",
   "language": "python",
   "name": "python3"
  },
  "language_info": {
   "codemirror_mode": {
    "name": "ipython",
    "version": 3
   },
   "file_extension": ".py",
   "mimetype": "text/x-python",
   "name": "python",
   "nbconvert_exporter": "python",
   "pygments_lexer": "ipython3",
   "version": "3.7.8"
  }
 },
 "nbformat": 4,
 "nbformat_minor": 5
}
